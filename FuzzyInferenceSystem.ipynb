{
  "nbformat": 4,
  "nbformat_minor": 0,
  "metadata": {
    "colab": {
      "name": "FuzzyInferenceSystem.ipynb",
      "provenance": [],
      "collapsed_sections": []
    },
    "kernelspec": {
      "name": "python3",
      "display_name": "Python 3"
    },
    "language_info": {
      "name": "python"
    },
    "widgets": {
      "application/vnd.jupyter.widget-state+json": {
        "1fe6a4e7a1f548c1af4693a2b5169d1e": {
          "model_module": "@jupyter-widgets/controls",
          "model_name": "VBoxModel",
          "model_module_version": "1.5.0",
          "state": {
            "_view_name": "VBoxView",
            "_dom_classes": [
              "widget-interact"
            ],
            "_model_name": "VBoxModel",
            "_view_module": "@jupyter-widgets/controls",
            "_model_module_version": "1.5.0",
            "_view_count": null,
            "_view_module_version": "1.5.0",
            "box_style": "",
            "layout": "IPY_MODEL_9ba5be3c609c4de7b2e73919c6f3f617",
            "_model_module": "@jupyter-widgets/controls",
            "children": [
              "IPY_MODEL_43f53ddbb12d41fbb29f8277c2e5edb2",
              "IPY_MODEL_28cfe078f4e74872a5b7f0b8b3ca3df8"
            ]
          }
        },
        "9ba5be3c609c4de7b2e73919c6f3f617": {
          "model_module": "@jupyter-widgets/base",
          "model_name": "LayoutModel",
          "model_module_version": "1.2.0",
          "state": {
            "_view_name": "LayoutView",
            "grid_template_rows": null,
            "right": null,
            "justify_content": null,
            "_view_module": "@jupyter-widgets/base",
            "overflow": null,
            "_model_module_version": "1.2.0",
            "_view_count": null,
            "flex_flow": null,
            "width": null,
            "min_width": null,
            "border": null,
            "align_items": null,
            "bottom": null,
            "_model_module": "@jupyter-widgets/base",
            "top": null,
            "grid_column": null,
            "overflow_y": null,
            "overflow_x": null,
            "grid_auto_flow": null,
            "grid_area": null,
            "grid_template_columns": null,
            "flex": null,
            "_model_name": "LayoutModel",
            "justify_items": null,
            "grid_row": null,
            "max_height": null,
            "align_content": null,
            "visibility": null,
            "align_self": null,
            "height": null,
            "min_height": null,
            "padding": null,
            "grid_auto_rows": null,
            "grid_gap": null,
            "max_width": null,
            "order": null,
            "_view_module_version": "1.2.0",
            "grid_template_areas": null,
            "object_position": null,
            "object_fit": null,
            "grid_auto_columns": null,
            "margin": null,
            "display": null,
            "left": null
          }
        },
        "43f53ddbb12d41fbb29f8277c2e5edb2": {
          "model_module": "@jupyter-widgets/controls",
          "model_name": "FloatSliderModel",
          "model_module_version": "1.5.0",
          "state": {
            "_view_name": "FloatSliderView",
            "style": "IPY_MODEL_0cf0400c2ea04e03b3a283c604ec7aae",
            "_dom_classes": [],
            "description": "quality",
            "step": 0.01,
            "_model_name": "FloatSliderModel",
            "orientation": "horizontal",
            "max": 10,
            "_view_module": "@jupyter-widgets/controls",
            "_model_module_version": "1.5.0",
            "value": 6.48,
            "_view_count": null,
            "disabled": false,
            "_view_module_version": "1.5.0",
            "min": 0,
            "continuous_update": true,
            "readout_format": ".2f",
            "description_tooltip": null,
            "readout": true,
            "_model_module": "@jupyter-widgets/controls",
            "layout": "IPY_MODEL_f1331dd123344b0fb2669abe7b504287"
          }
        },
        "28cfe078f4e74872a5b7f0b8b3ca3df8": {
          "model_module": "@jupyter-widgets/output",
          "model_name": "OutputModel",
          "model_module_version": "1.0.0",
          "state": {
            "_view_name": "OutputView",
            "msg_id": "",
            "_dom_classes": [],
            "_model_name": "OutputModel",
            "outputs": [
              {
                "output_type": "display_data",
                "data": {
                  "image/png": "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\n",
                  "text/plain": "<Figure size 432x288 with 1 Axes>"
                },
                "metadata": {
                  "needs_background": "light"
                }
              },
              {
                "output_type": "stream",
                "name": "stdout",
                "text": [
                  "Membership of Food Quality = 6.48 for:\n",
                  "rancid => 0.00\n",
                  "fine => 0.76\n",
                  "delicious => 0.24\n"
                ]
              }
            ],
            "_view_module": "@jupyter-widgets/output",
            "_model_module_version": "1.0.0",
            "_view_count": null,
            "_view_module_version": "1.0.0",
            "layout": "IPY_MODEL_910e3e7edf664068bc243dc96affbd18",
            "_model_module": "@jupyter-widgets/output"
          }
        },
        "0cf0400c2ea04e03b3a283c604ec7aae": {
          "model_module": "@jupyter-widgets/controls",
          "model_name": "SliderStyleModel",
          "model_module_version": "1.5.0",
          "state": {
            "_view_name": "StyleView",
            "handle_color": null,
            "_model_name": "SliderStyleModel",
            "description_width": "",
            "_view_module": "@jupyter-widgets/base",
            "_model_module_version": "1.5.0",
            "_view_count": null,
            "_view_module_version": "1.2.0",
            "_model_module": "@jupyter-widgets/controls"
          }
        },
        "f1331dd123344b0fb2669abe7b504287": {
          "model_module": "@jupyter-widgets/base",
          "model_name": "LayoutModel",
          "model_module_version": "1.2.0",
          "state": {
            "_view_name": "LayoutView",
            "grid_template_rows": null,
            "right": null,
            "justify_content": null,
            "_view_module": "@jupyter-widgets/base",
            "overflow": null,
            "_model_module_version": "1.2.0",
            "_view_count": null,
            "flex_flow": null,
            "width": null,
            "min_width": null,
            "border": null,
            "align_items": null,
            "bottom": null,
            "_model_module": "@jupyter-widgets/base",
            "top": null,
            "grid_column": null,
            "overflow_y": null,
            "overflow_x": null,
            "grid_auto_flow": null,
            "grid_area": null,
            "grid_template_columns": null,
            "flex": null,
            "_model_name": "LayoutModel",
            "justify_items": null,
            "grid_row": null,
            "max_height": null,
            "align_content": null,
            "visibility": null,
            "align_self": null,
            "height": null,
            "min_height": null,
            "padding": null,
            "grid_auto_rows": null,
            "grid_gap": null,
            "max_width": null,
            "order": null,
            "_view_module_version": "1.2.0",
            "grid_template_areas": null,
            "object_position": null,
            "object_fit": null,
            "grid_auto_columns": null,
            "margin": null,
            "display": null,
            "left": null
          }
        },
        "910e3e7edf664068bc243dc96affbd18": {
          "model_module": "@jupyter-widgets/base",
          "model_name": "LayoutModel",
          "model_module_version": "1.2.0",
          "state": {
            "_view_name": "LayoutView",
            "grid_template_rows": null,
            "right": null,
            "justify_content": null,
            "_view_module": "@jupyter-widgets/base",
            "overflow": null,
            "_model_module_version": "1.2.0",
            "_view_count": null,
            "flex_flow": null,
            "width": null,
            "min_width": null,
            "border": null,
            "align_items": null,
            "bottom": null,
            "_model_module": "@jupyter-widgets/base",
            "top": null,
            "grid_column": null,
            "overflow_y": null,
            "overflow_x": null,
            "grid_auto_flow": null,
            "grid_area": null,
            "grid_template_columns": null,
            "flex": null,
            "_model_name": "LayoutModel",
            "justify_items": null,
            "grid_row": null,
            "max_height": null,
            "align_content": null,
            "visibility": null,
            "align_self": null,
            "height": null,
            "min_height": null,
            "padding": null,
            "grid_auto_rows": null,
            "grid_gap": null,
            "max_width": null,
            "order": null,
            "_view_module_version": "1.2.0",
            "grid_template_areas": null,
            "object_position": null,
            "object_fit": null,
            "grid_auto_columns": null,
            "margin": null,
            "display": null,
            "left": null
          }
        },
        "fe73e0c05cea475985f5c3a55db1cf30": {
          "model_module": "@jupyter-widgets/controls",
          "model_name": "VBoxModel",
          "model_module_version": "1.5.0",
          "state": {
            "_view_name": "VBoxView",
            "_dom_classes": [
              "widget-interact"
            ],
            "_model_name": "VBoxModel",
            "_view_module": "@jupyter-widgets/controls",
            "_model_module_version": "1.5.0",
            "_view_count": null,
            "_view_module_version": "1.5.0",
            "box_style": "",
            "layout": "IPY_MODEL_25883bed340e49efa97c0db7ba24aebb",
            "_model_module": "@jupyter-widgets/controls",
            "children": [
              "IPY_MODEL_5bde9bd17fbc4f93b455fb3d128006b4",
              "IPY_MODEL_80b46765b2454742b8e9092163b4e4e9"
            ]
          }
        },
        "25883bed340e49efa97c0db7ba24aebb": {
          "model_module": "@jupyter-widgets/base",
          "model_name": "LayoutModel",
          "model_module_version": "1.2.0",
          "state": {
            "_view_name": "LayoutView",
            "grid_template_rows": null,
            "right": null,
            "justify_content": null,
            "_view_module": "@jupyter-widgets/base",
            "overflow": null,
            "_model_module_version": "1.2.0",
            "_view_count": null,
            "flex_flow": null,
            "width": null,
            "min_width": null,
            "border": null,
            "align_items": null,
            "bottom": null,
            "_model_module": "@jupyter-widgets/base",
            "top": null,
            "grid_column": null,
            "overflow_y": null,
            "overflow_x": null,
            "grid_auto_flow": null,
            "grid_area": null,
            "grid_template_columns": null,
            "flex": null,
            "_model_name": "LayoutModel",
            "justify_items": null,
            "grid_row": null,
            "max_height": null,
            "align_content": null,
            "visibility": null,
            "align_self": null,
            "height": null,
            "min_height": null,
            "padding": null,
            "grid_auto_rows": null,
            "grid_gap": null,
            "max_width": null,
            "order": null,
            "_view_module_version": "1.2.0",
            "grid_template_areas": null,
            "object_position": null,
            "object_fit": null,
            "grid_auto_columns": null,
            "margin": null,
            "display": null,
            "left": null
          }
        },
        "5bde9bd17fbc4f93b455fb3d128006b4": {
          "model_module": "@jupyter-widgets/controls",
          "model_name": "FloatSliderModel",
          "model_module_version": "1.5.0",
          "state": {
            "_view_name": "FloatSliderView",
            "style": "IPY_MODEL_fe642fc20583498d859b99804fdbab05",
            "_dom_classes": [],
            "description": "quality",
            "step": 0.01,
            "_model_name": "FloatSliderModel",
            "orientation": "horizontal",
            "max": 10,
            "_view_module": "@jupyter-widgets/controls",
            "_model_module_version": "1.5.0",
            "value": 3,
            "_view_count": null,
            "disabled": false,
            "_view_module_version": "1.5.0",
            "min": 0,
            "continuous_update": true,
            "readout_format": ".2f",
            "description_tooltip": null,
            "readout": true,
            "_model_module": "@jupyter-widgets/controls",
            "layout": "IPY_MODEL_0aedcbb1b05b42ca83c0c83a2827a02d"
          }
        },
        "80b46765b2454742b8e9092163b4e4e9": {
          "model_module": "@jupyter-widgets/output",
          "model_name": "OutputModel",
          "model_module_version": "1.0.0",
          "state": {
            "_view_name": "OutputView",
            "msg_id": "",
            "_dom_classes": [],
            "_model_name": "OutputModel",
            "outputs": [
              {
                "output_type": "display_data",
                "data": {
                  "image/png": "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\n",
                  "text/plain": "<Figure size 432x288 with 1 Axes>"
                },
                "metadata": {
                  "needs_background": "light"
                }
              },
              {
                "output_type": "stream",
                "name": "stdout",
                "text": [
                  "Membership of Service Quality = 3 for: \n",
                  "poor => 0.14\n",
                  "good => 0.41\n",
                  "excellent => 0.00\n"
                ]
              }
            ],
            "_view_module": "@jupyter-widgets/output",
            "_model_module_version": "1.0.0",
            "_view_count": null,
            "_view_module_version": "1.0.0",
            "layout": "IPY_MODEL_36ce3310c2d4460c97270ab821eae7c4",
            "_model_module": "@jupyter-widgets/output"
          }
        },
        "fe642fc20583498d859b99804fdbab05": {
          "model_module": "@jupyter-widgets/controls",
          "model_name": "SliderStyleModel",
          "model_module_version": "1.5.0",
          "state": {
            "_view_name": "StyleView",
            "handle_color": null,
            "_model_name": "SliderStyleModel",
            "description_width": "",
            "_view_module": "@jupyter-widgets/base",
            "_model_module_version": "1.5.0",
            "_view_count": null,
            "_view_module_version": "1.2.0",
            "_model_module": "@jupyter-widgets/controls"
          }
        },
        "0aedcbb1b05b42ca83c0c83a2827a02d": {
          "model_module": "@jupyter-widgets/base",
          "model_name": "LayoutModel",
          "model_module_version": "1.2.0",
          "state": {
            "_view_name": "LayoutView",
            "grid_template_rows": null,
            "right": null,
            "justify_content": null,
            "_view_module": "@jupyter-widgets/base",
            "overflow": null,
            "_model_module_version": "1.2.0",
            "_view_count": null,
            "flex_flow": null,
            "width": null,
            "min_width": null,
            "border": null,
            "align_items": null,
            "bottom": null,
            "_model_module": "@jupyter-widgets/base",
            "top": null,
            "grid_column": null,
            "overflow_y": null,
            "overflow_x": null,
            "grid_auto_flow": null,
            "grid_area": null,
            "grid_template_columns": null,
            "flex": null,
            "_model_name": "LayoutModel",
            "justify_items": null,
            "grid_row": null,
            "max_height": null,
            "align_content": null,
            "visibility": null,
            "align_self": null,
            "height": null,
            "min_height": null,
            "padding": null,
            "grid_auto_rows": null,
            "grid_gap": null,
            "max_width": null,
            "order": null,
            "_view_module_version": "1.2.0",
            "grid_template_areas": null,
            "object_position": null,
            "object_fit": null,
            "grid_auto_columns": null,
            "margin": null,
            "display": null,
            "left": null
          }
        },
        "36ce3310c2d4460c97270ab821eae7c4": {
          "model_module": "@jupyter-widgets/base",
          "model_name": "LayoutModel",
          "model_module_version": "1.2.0",
          "state": {
            "_view_name": "LayoutView",
            "grid_template_rows": null,
            "right": null,
            "justify_content": null,
            "_view_module": "@jupyter-widgets/base",
            "overflow": null,
            "_model_module_version": "1.2.0",
            "_view_count": null,
            "flex_flow": null,
            "width": null,
            "min_width": null,
            "border": null,
            "align_items": null,
            "bottom": null,
            "_model_module": "@jupyter-widgets/base",
            "top": null,
            "grid_column": null,
            "overflow_y": null,
            "overflow_x": null,
            "grid_auto_flow": null,
            "grid_area": null,
            "grid_template_columns": null,
            "flex": null,
            "_model_name": "LayoutModel",
            "justify_items": null,
            "grid_row": null,
            "max_height": null,
            "align_content": null,
            "visibility": null,
            "align_self": null,
            "height": null,
            "min_height": null,
            "padding": null,
            "grid_auto_rows": null,
            "grid_gap": null,
            "max_width": null,
            "order": null,
            "_view_module_version": "1.2.0",
            "grid_template_areas": null,
            "object_position": null,
            "object_fit": null,
            "grid_auto_columns": null,
            "margin": null,
            "display": null,
            "left": null
          }
        },
        "8432ed36ad5d43a6838f24655fcc5963": {
          "model_module": "@jupyter-widgets/controls",
          "model_name": "VBoxModel",
          "model_module_version": "1.5.0",
          "state": {
            "_view_name": "VBoxView",
            "_dom_classes": [
              "widget-interact"
            ],
            "_model_name": "VBoxModel",
            "_view_module": "@jupyter-widgets/controls",
            "_model_module_version": "1.5.0",
            "_view_count": null,
            "_view_module_version": "1.5.0",
            "box_style": "",
            "layout": "IPY_MODEL_8a5ae878e6e248c09c5abf96c20333dd",
            "_model_module": "@jupyter-widgets/controls",
            "children": [
              "IPY_MODEL_79615ee35a0546529e6d0bb87d71427b",
              "IPY_MODEL_c76c46c5e81a40c58d90608423427e80",
              "IPY_MODEL_76dda6caa71349098233f4d0d0c29945"
            ]
          }
        },
        "8a5ae878e6e248c09c5abf96c20333dd": {
          "model_module": "@jupyter-widgets/base",
          "model_name": "LayoutModel",
          "model_module_version": "1.2.0",
          "state": {
            "_view_name": "LayoutView",
            "grid_template_rows": null,
            "right": null,
            "justify_content": null,
            "_view_module": "@jupyter-widgets/base",
            "overflow": null,
            "_model_module_version": "1.2.0",
            "_view_count": null,
            "flex_flow": null,
            "width": null,
            "min_width": null,
            "border": null,
            "align_items": null,
            "bottom": null,
            "_model_module": "@jupyter-widgets/base",
            "top": null,
            "grid_column": null,
            "overflow_y": null,
            "overflow_x": null,
            "grid_auto_flow": null,
            "grid_area": null,
            "grid_template_columns": null,
            "flex": null,
            "_model_name": "LayoutModel",
            "justify_items": null,
            "grid_row": null,
            "max_height": null,
            "align_content": null,
            "visibility": null,
            "align_self": null,
            "height": null,
            "min_height": null,
            "padding": null,
            "grid_auto_rows": null,
            "grid_gap": null,
            "max_width": null,
            "order": null,
            "_view_module_version": "1.2.0",
            "grid_template_areas": null,
            "object_position": null,
            "object_fit": null,
            "grid_auto_columns": null,
            "margin": null,
            "display": null,
            "left": null
          }
        },
        "79615ee35a0546529e6d0bb87d71427b": {
          "model_module": "@jupyter-widgets/controls",
          "model_name": "FloatSliderModel",
          "model_module_version": "1.5.0",
          "state": {
            "_view_name": "FloatSliderView",
            "style": "IPY_MODEL_3bd8bf2ce27b4b2e9a6e3bc482889c99",
            "_dom_classes": [],
            "description": "food",
            "step": 0.01,
            "_model_name": "FloatSliderModel",
            "orientation": "horizontal",
            "max": 10,
            "_view_module": "@jupyter-widgets/controls",
            "_model_module_version": "1.5.0",
            "value": 7.36,
            "_view_count": null,
            "disabled": false,
            "_view_module_version": "1.5.0",
            "min": 0,
            "continuous_update": true,
            "readout_format": ".2f",
            "description_tooltip": null,
            "readout": true,
            "_model_module": "@jupyter-widgets/controls",
            "layout": "IPY_MODEL_7d4358fb42314bbb8aec822820366703"
          }
        },
        "c76c46c5e81a40c58d90608423427e80": {
          "model_module": "@jupyter-widgets/controls",
          "model_name": "FloatSliderModel",
          "model_module_version": "1.5.0",
          "state": {
            "_view_name": "FloatSliderView",
            "style": "IPY_MODEL_636c8287ff0e43ff940ef8cf53c362c7",
            "_dom_classes": [],
            "description": "service",
            "step": 0.01,
            "_model_name": "FloatSliderModel",
            "orientation": "horizontal",
            "max": 10,
            "_view_module": "@jupyter-widgets/controls",
            "_model_module_version": "1.5.0",
            "value": 3.33,
            "_view_count": null,
            "disabled": false,
            "_view_module_version": "1.5.0",
            "min": 0,
            "continuous_update": true,
            "readout_format": ".2f",
            "description_tooltip": null,
            "readout": true,
            "_model_module": "@jupyter-widgets/controls",
            "layout": "IPY_MODEL_d180da4ae2134686bc2dc103f87fd17b"
          }
        },
        "76dda6caa71349098233f4d0d0c29945": {
          "model_module": "@jupyter-widgets/output",
          "model_name": "OutputModel",
          "model_module_version": "1.0.0",
          "state": {
            "_view_name": "OutputView",
            "msg_id": "",
            "_dom_classes": [],
            "_model_name": "OutputModel",
            "outputs": [
              {
                "output_type": "display_data",
                "data": {
                  "image/png": "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\n",
                  "text/plain": "<Figure size 432x288 with 1 Axes>"
                },
                "metadata": {
                  "needs_background": "light"
                }
              },
              {
                "output_type": "stream",
                "name": "stdout",
                "text": [
                  "\n"
                ]
              },
              {
                "output_type": "display_data",
                "data": {
                  "image/png": "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\n",
                  "text/plain": "<Figure size 432x288 with 1 Axes>"
                },
                "metadata": {
                  "needs_background": "light"
                }
              },
              {
                "output_type": "stream",
                "name": "stdout",
                "text": [
                  "\n"
                ]
              },
              {
                "output_type": "display_data",
                "data": {
                  "image/png": "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\n",
                  "text/plain": "<Figure size 432x288 with 1 Axes>"
                },
                "metadata": {
                  "needs_background": "light"
                }
              },
              {
                "output_type": "stream",
                "name": "stdout",
                "text": [
                  "\n",
                  "Respect to chosen inputs, the defuzzified crisp value for the tip percentage is : 17.98%\n"
                ]
              }
            ],
            "_view_module": "@jupyter-widgets/output",
            "_model_module_version": "1.0.0",
            "_view_count": null,
            "_view_module_version": "1.0.0",
            "layout": "IPY_MODEL_59e02698f85e44bf89a8a4f022f3d70d",
            "_model_module": "@jupyter-widgets/output"
          }
        },
        "3bd8bf2ce27b4b2e9a6e3bc482889c99": {
          "model_module": "@jupyter-widgets/controls",
          "model_name": "SliderStyleModel",
          "model_module_version": "1.5.0",
          "state": {
            "_view_name": "StyleView",
            "handle_color": null,
            "_model_name": "SliderStyleModel",
            "description_width": "",
            "_view_module": "@jupyter-widgets/base",
            "_model_module_version": "1.5.0",
            "_view_count": null,
            "_view_module_version": "1.2.0",
            "_model_module": "@jupyter-widgets/controls"
          }
        },
        "7d4358fb42314bbb8aec822820366703": {
          "model_module": "@jupyter-widgets/base",
          "model_name": "LayoutModel",
          "model_module_version": "1.2.0",
          "state": {
            "_view_name": "LayoutView",
            "grid_template_rows": null,
            "right": null,
            "justify_content": null,
            "_view_module": "@jupyter-widgets/base",
            "overflow": null,
            "_model_module_version": "1.2.0",
            "_view_count": null,
            "flex_flow": null,
            "width": null,
            "min_width": null,
            "border": null,
            "align_items": null,
            "bottom": null,
            "_model_module": "@jupyter-widgets/base",
            "top": null,
            "grid_column": null,
            "overflow_y": null,
            "overflow_x": null,
            "grid_auto_flow": null,
            "grid_area": null,
            "grid_template_columns": null,
            "flex": null,
            "_model_name": "LayoutModel",
            "justify_items": null,
            "grid_row": null,
            "max_height": null,
            "align_content": null,
            "visibility": null,
            "align_self": null,
            "height": null,
            "min_height": null,
            "padding": null,
            "grid_auto_rows": null,
            "grid_gap": null,
            "max_width": null,
            "order": null,
            "_view_module_version": "1.2.0",
            "grid_template_areas": null,
            "object_position": null,
            "object_fit": null,
            "grid_auto_columns": null,
            "margin": null,
            "display": null,
            "left": null
          }
        },
        "636c8287ff0e43ff940ef8cf53c362c7": {
          "model_module": "@jupyter-widgets/controls",
          "model_name": "SliderStyleModel",
          "model_module_version": "1.5.0",
          "state": {
            "_view_name": "StyleView",
            "handle_color": null,
            "_model_name": "SliderStyleModel",
            "description_width": "",
            "_view_module": "@jupyter-widgets/base",
            "_model_module_version": "1.5.0",
            "_view_count": null,
            "_view_module_version": "1.2.0",
            "_model_module": "@jupyter-widgets/controls"
          }
        },
        "d180da4ae2134686bc2dc103f87fd17b": {
          "model_module": "@jupyter-widgets/base",
          "model_name": "LayoutModel",
          "model_module_version": "1.2.0",
          "state": {
            "_view_name": "LayoutView",
            "grid_template_rows": null,
            "right": null,
            "justify_content": null,
            "_view_module": "@jupyter-widgets/base",
            "overflow": null,
            "_model_module_version": "1.2.0",
            "_view_count": null,
            "flex_flow": null,
            "width": null,
            "min_width": null,
            "border": null,
            "align_items": null,
            "bottom": null,
            "_model_module": "@jupyter-widgets/base",
            "top": null,
            "grid_column": null,
            "overflow_y": null,
            "overflow_x": null,
            "grid_auto_flow": null,
            "grid_area": null,
            "grid_template_columns": null,
            "flex": null,
            "_model_name": "LayoutModel",
            "justify_items": null,
            "grid_row": null,
            "max_height": null,
            "align_content": null,
            "visibility": null,
            "align_self": null,
            "height": null,
            "min_height": null,
            "padding": null,
            "grid_auto_rows": null,
            "grid_gap": null,
            "max_width": null,
            "order": null,
            "_view_module_version": "1.2.0",
            "grid_template_areas": null,
            "object_position": null,
            "object_fit": null,
            "grid_auto_columns": null,
            "margin": null,
            "display": null,
            "left": null
          }
        },
        "59e02698f85e44bf89a8a4f022f3d70d": {
          "model_module": "@jupyter-widgets/base",
          "model_name": "LayoutModel",
          "model_module_version": "1.2.0",
          "state": {
            "_view_name": "LayoutView",
            "grid_template_rows": null,
            "right": null,
            "justify_content": null,
            "_view_module": "@jupyter-widgets/base",
            "overflow": null,
            "_model_module_version": "1.2.0",
            "_view_count": null,
            "flex_flow": null,
            "width": null,
            "min_width": null,
            "border": null,
            "align_items": null,
            "bottom": null,
            "_model_module": "@jupyter-widgets/base",
            "top": null,
            "grid_column": null,
            "overflow_y": null,
            "overflow_x": null,
            "grid_auto_flow": null,
            "grid_area": null,
            "grid_template_columns": null,
            "flex": null,
            "_model_name": "LayoutModel",
            "justify_items": null,
            "grid_row": null,
            "max_height": null,
            "align_content": null,
            "visibility": null,
            "align_self": null,
            "height": null,
            "min_height": null,
            "padding": null,
            "grid_auto_rows": null,
            "grid_gap": null,
            "max_width": null,
            "order": null,
            "_view_module_version": "1.2.0",
            "grid_template_areas": null,
            "object_position": null,
            "object_fit": null,
            "grid_auto_columns": null,
            "margin": null,
            "display": null,
            "left": null
          }
        }
      }
    }
  },
  "cells": [
    {
      "cell_type": "markdown",
      "source": [
        "# <center> ***Fuzzy Inference System***"
      ],
      "metadata": {
        "id": "OAVSYWYwzFG5"
      }
    },
    {
      "cell_type": "markdown",
      "source": [
        "In this project, we are going to look at a fuzzy system that determines how much you should tip in a restuarant given tow inputs:\n",
        "* *Food Quality*\n",
        "* *Service Qulity*"
      ],
      "metadata": {
        "id": "LjFsPHIr1TFn"
      }
    },
    {
      "cell_type": "markdown",
      "source": [
        "As any other fuzzy inference system, we are going to break this problem up to 3 distinct sections:\n",
        "1. $Fuzzification$\n",
        "2. $Inference$\n",
        "3. $Defuzzification$"
      ],
      "metadata": {
        "id": "6lE0X2oJ189y"
      }
    },
    {
      "cell_type": "markdown",
      "source": [
        "# 1) ***Fuzzification***"
      ],
      "metadata": {
        "id": "ytHv6U0r2lb9"
      }
    },
    {
      "cell_type": "markdown",
      "source": [
        "> We have 2 crisp inputs into the system: **Food and Service Quality**\n",
        "<br> These inputs can range from $0$ to $10$."
      ],
      "metadata": {
        "id": "efJ-oTBa2vC7"
      }
    },
    {
      "cell_type": "markdown",
      "source": [
        "We can think of these numbers as a feedback in a restuarant about the quality of their food and service.\n",
        "<br> Given these feedbacks, a costumer wants to know how much should he tip."
      ],
      "metadata": {
        "id": "ljMwmxK43syU"
      }
    },
    {
      "cell_type": "markdown",
      "source": [
        "To fuzzify these tow values, we use the linguistic variables, those are the human interpretable adjectives,\n",
        "<br> and their respective membership functions."
      ],
      "metadata": {
        "id": "yZ1RcMm05SxH"
      }
    },
    {
      "cell_type": "markdown",
      "source": [
        "These variables are:\n",
        ">* For Food Quality =    ${rancid, fine, delicious}$\n",
        "* For Service Quality = ${poor, good, excellent}$"
      ],
      "metadata": {
        "id": "1mkOM0Sd5jE3"
      }
    },
    {
      "cell_type": "code",
      "source": [
        "import numpy as np\n",
        "from matplotlib import pyplot as plt\n",
        "from ipywidgets import interact\n",
        "import scipy.integrate as integrate\n",
        "import warnings"
      ],
      "metadata": {
        "id": "gWeA4I0x1s30"
      },
      "execution_count": 10,
      "outputs": []
    },
    {
      "cell_type": "code",
      "source": [
        "class Point:\n",
        "  def __init__(self, x, y):\n",
        "    self.x = x\n",
        "    self.y = y\n",
        "\n",
        "class Line:\n",
        "  def __init__(self, p1, p2):\n",
        "    self.m = (p2.y - p1.y) / (p2.x - p1.x)\n",
        "    self.b = p1.y - (self.m * p1.x)\n",
        "\n",
        "  def calculate_y(self, x):\n",
        "    return self.m * x + self.b\n",
        "\n",
        "  def calculate_x(self, y):\n",
        "    return (y - self.b) / self.m"
      ],
      "metadata": {
        "id": "cDQGnI9_7WwW"
      },
      "execution_count": 11,
      "outputs": []
    },
    {
      "cell_type": "code",
      "source": [
        "class FoodQuality:\n",
        "  def __init__(self, quality):\n",
        "    self.quality = quality\n",
        "\n",
        "  def rancid(self):\n",
        "    if 0 <= self.quality <= 2:\n",
        "      return 1.\n",
        "    elif 2 <= self.quality <= 4:\n",
        "      line = Line(Point(2., 1.), Point(4., 0.))\n",
        "      return line.calculate_y(self.quality)\n",
        "    else:\n",
        "      return 0.\n",
        "\n",
        "  def fine(self):\n",
        "    if 2 <= self.quality <= 4:\n",
        "      line = Line(Point(2., 0.), Point(4., 1.))\n",
        "      return line.calculate_y(self.quality)\n",
        "    elif 4 <= self.quality <= 6:\n",
        "      return 1.\n",
        "    elif 6 <= self.quality <= 8:\n",
        "      line = Line(Point(6., 1.), Point(8., 0.))\n",
        "      return line.calculate_y(self.quality)\n",
        "    else:\n",
        "      return 0.\n",
        "\n",
        "  def delicious(self):\n",
        "      if 6 <= self.quality <= 8:\n",
        "          line = Line(Point(6., 0.), Point(8., 1.))\n",
        "          return line.calculate_y(self.quality)\n",
        "      elif 8 <= self.quality <= 10:\n",
        "          return 1.\n",
        "      else:\n",
        "          return 0."
      ],
      "metadata": {
        "id": "6_gLVN6D7Zw4"
      },
      "execution_count": 12,
      "outputs": []
    },
    {
      "cell_type": "code",
      "source": [
        "class ServiceQuality:\n",
        "  def __init__(self, quality):\n",
        "    self.quality = quality\n",
        "\n",
        "  @staticmethod\n",
        "  def bell_func(x, mean, std=1.5):\n",
        "    return np.exp(- (x - mean) ** 2 / (2 * std ** 2))\n",
        "\n",
        "  def poor(self):\n",
        "    return self.bell_func(self.quality, mean=0.)\n",
        "\n",
        "  def good(self):\n",
        "    return self.bell_func(self.quality, mean=5.)\n",
        "\n",
        "  def excellent(self):\n",
        "    return self.bell_func(self.quality, mean=10.)"
      ],
      "metadata": {
        "id": "BaPxfktt72BK"
      },
      "execution_count": 13,
      "outputs": []
    },
    {
      "cell_type": "markdown",
      "source": [
        "So we have these membership functions for Food Quality and Service Quality:"
      ],
      "metadata": {
        "id": "8ULX6Uyx-HMn"
      }
    },
    {
      "cell_type": "code",
      "source": [
        "def plot_food_quality(q=None):\n",
        "  quality = np.linspace(0, 10, num=400)\n",
        "\n",
        "  membership = [FoodQuality(m).rancid() for m in quality]\n",
        "  plt.plot(quality, membership, color='red')\n",
        "\n",
        "  membership = [FoodQuality(m).fine() for m in quality]\n",
        "  plt.plot(quality, membership, color='blue')\n",
        "\n",
        "  membership = [FoodQuality(m).delicious() for m in quality]\n",
        "  plt.plot(quality, membership, color='green')\n",
        "\n",
        "  plt.xlabel(\"Food Quality\")\n",
        "  plt.ylabel(\"Degree Membership\")\n",
        "  plt.legend([\"rancid\", \"fine\", \"delicious\"])\n",
        "  plt.xticks(np.arange(0, 11, step=1))\n",
        "  plt.yticks(np.arange(0, 1.1, step=0.1))\n",
        "\n",
        "  if q is not None:\n",
        "    memberships = {}\n",
        "    memberships['rancid'] = FoodQuality(q).rancid()\n",
        "    memberships['fine'] = FoodQuality(q).fine()\n",
        "    memberships['delicious'] = FoodQuality(q).delicious()\n",
        "\n",
        "    plt.axvline(x=q, color='purple', linestyle='--')\n",
        "    plt.plot(q, memberships['rancid'], 'ro', color='red')\n",
        "    plt.plot(q, memberships['fine'], 'ro', color='blue')\n",
        "    plt.plot(q, memberships['delicious'], 'ro', color='green')\n",
        "\n",
        "    plt.show()\n",
        "    return memberships\n",
        "\n",
        "  plt.show()"
      ],
      "metadata": {
        "id": "XTaHYpNp9lKg"
      },
      "execution_count": 14,
      "outputs": []
    },
    {
      "cell_type": "code",
      "source": [
        "def plot_service_quality(q=None):\n",
        "  quality = np.linspace(0, 10, num=400)\n",
        "\n",
        "  membership = [ServiceQuality(m).poor() for m in quality]\n",
        "  plt.plot(quality, membership, color='red')\n",
        "\n",
        "  membership = [ServiceQuality(m).good() for m in quality]\n",
        "  plt.plot(quality, membership, color='blue')\n",
        "\n",
        "  membership = [ServiceQuality(m).excellent() for m in quality]\n",
        "  plt.plot(quality, membership, color='green')\n",
        "\n",
        "  plt.xlabel(\"Service Quality\")\n",
        "  plt.ylabel(\"Degree Membership\")\n",
        "  plt.legend([\"poor\", \"good\", \"excellent\"])\n",
        "  plt.xticks(np.arange(0, 11, step=1))\n",
        "  plt.yticks(np.arange(0, 1.1, step=0.1))\n",
        "\n",
        "  if q is not None:\n",
        "    memberships = {}\n",
        "    memberships['poor'] = ServiceQuality(q).poor()\n",
        "    memberships['good'] = ServiceQuality(q).good()\n",
        "    memberships['excellent'] = ServiceQuality(q).excellent()\n",
        "\n",
        "    plt.axvline(x=q, color='purple', linestyle='--')\n",
        "    plt.plot(q, memberships['poor'], 'ro', color='red')\n",
        "    plt.plot(q, memberships['good'], 'ro', color='blue')\n",
        "    plt.plot(q, memberships['excellent'], 'ro', color='green')\n",
        "\n",
        "    plt.show()\n",
        "    return memberships\n",
        "\n",
        "  plt.show()"
      ],
      "metadata": {
        "id": "iHKCtnl6CcZT"
      },
      "execution_count": 15,
      "outputs": []
    },
    {
      "cell_type": "code",
      "source": [
        "plot_food_quality()\n",
        "plot_service_quality()"
      ],
      "metadata": {
        "colab": {
          "base_uri": "https://localhost:8080/",
          "height": 541
        },
        "id": "1G_-zpcGAza3",
        "outputId": "5a0cf823-d69c-4307-c7da-0b7aec559f49"
      },
      "execution_count": 16,
      "outputs": [
        {
          "output_type": "display_data",
          "data": {
            "image/png": "[encoded data removed]",
            "text/plain": [
              "<Figure size 432x288 with 1 Axes>"
            ]
          },
          "metadata": {
            "needs_background": "light"
          }
        },
        {
          "output_type": "display_data",
          "data": {
            "image/png": "[encoded data removed]",
            "text/plain": [
              "<Figure size 432x288 with 1 Axes>"
            ]
          },
          "metadata": {
            "needs_background": "light"
          }
        }
      ]
    },
    {
      "cell_type": "markdown",
      "source": [
        "Now given our crisp inputs, we can see the fuzzified value of them accordind to membership functions:"
      ],
      "metadata": {
        "id": "iwB4g5J5EIEI"
      }
    },
    {
      "cell_type": "code",
      "source": [
        "@interact(quality=(0.0,10.0,0.01))\n",
        "def fuzzify_food_quality(quality):\n",
        "  memberships = plot_food_quality(quality)\n",
        "  print(\"Membership of Food Quality = %g for:\" %quality)\n",
        "  print(\"rancid => %.2f\" %memberships['rancid'])\n",
        "  print(\"fine => %.2f\" %memberships['fine'])\n",
        "  print(\"delicious => %.2f\" %memberships['delicious'])"
      ],
      "metadata": {
        "colab": {
          "base_uri": "https://localhost:8080/",
          "height": 385,
          "referenced_widgets": [
            "1fe6a4e7a1f548c1af4693a2b5169d1e",
            "9ba5be3c609c4de7b2e73919c6f3f617",
            "43f53ddbb12d41fbb29f8277c2e5edb2",
            "28cfe078f4e74872a5b7f0b8b3ca3df8",
            "0cf0400c2ea04e03b3a283c604ec7aae",
            "f1331dd123344b0fb2669abe7b504287",
            "910e3e7edf664068bc243dc96affbd18"
          ]
        },
        "id": "J4En3s2vHPQ6",
        "outputId": "27c6b53e-c8e8-4489-8b14-69ed126fe8b9"
      },
      "execution_count": 17,
      "outputs": [
        {
          "output_type": "display_data",
          "data": {
            "application/vnd.jupyter.widget-view+json": {
              "model_id": "1fe6a4e7a1f548c1af4693a2b5169d1e",
              "version_minor": 0,
              "version_major": 2
            },
            "text/plain": [
              "interactive(children=(FloatSlider(value=5.0, description='quality', max=10.0, step=0.01), Output()), _dom_clas…"
            ]
          },
          "metadata": {}
        }
      ]
    },
    {
      "cell_type": "code",
      "source": [
        "@interact(quality=(0.0,10.0,0.01))\n",
        "def fuzzify_service_quality(quality):\n",
        "  memberships = plot_service_quality(quality)\n",
        "  print(\"Membership of Service Quality = %g for: \" %quality)\n",
        "  print(\"poor => %.2f\" %memberships['poor'])\n",
        "  print(\"good => %.2f\" %memberships['good'])\n",
        "  print(\"excellent => %.2f\" %memberships['excellent'])"
      ],
      "metadata": {
        "colab": {
          "base_uri": "https://localhost:8080/",
          "height": 385,
          "referenced_widgets": [
            "fe73e0c05cea475985f5c3a55db1cf30",
            "25883bed340e49efa97c0db7ba24aebb",
            "5bde9bd17fbc4f93b455fb3d128006b4",
            "80b46765b2454742b8e9092163b4e4e9",
            "fe642fc20583498d859b99804fdbab05",
            "0aedcbb1b05b42ca83c0c83a2827a02d",
            "36ce3310c2d4460c97270ab821eae7c4"
          ]
        },
        "id": "m-_FlTaQN6t9",
        "outputId": "1d77900e-953a-49ab-e363-1b0fd88d6a0d"
      },
      "execution_count": 18,
      "outputs": [
        {
          "output_type": "display_data",
          "data": {
            "application/vnd.jupyter.widget-view+json": {
              "model_id": "fe73e0c05cea475985f5c3a55db1cf30",
              "version_minor": 0,
              "version_major": 2
            },
            "text/plain": [
              "interactive(children=(FloatSlider(value=5.0, description='quality', max=10.0, step=0.01), Output()), _dom_clas…"
            ]
          },
          "metadata": {}
        }
      ]
    },
    {
      "cell_type": "markdown",
      "source": [
        "# 2) ***Inference***"
      ],
      "metadata": {
        "id": "YUzjOM6eQCzO"
      }
    },
    {
      "cell_type": "markdown",
      "source": [
        "In this step, we use some logical statements, so called **RULES**, to infer what the output should be."
      ],
      "metadata": {
        "id": "qZ5XAb7jb37h"
      }
    },
    {
      "cell_type": "markdown",
      "source": [
        "We consider these 3 rules:\n",
        "> 1. If $service$ is $poor$ or $food$ is $rancid$ then $tip$ is $low$\n",
        "> 2. If $service$ is $good$ then $tip$ is $average$\n",
        "> 3. If $service$ is $excellent$ or $food$ is $delicious$ then $tip$ is $high$"
      ],
      "metadata": {
        "id": "Y9fUQpPVcRE_"
      }
    },
    {
      "cell_type": "code",
      "source": [
        "def infer(food_memberships, service_memberships):\n",
        "  tip_memberships = {}\n",
        "\n",
        "  # Rule 1 : If service is poor or food is rancid then tip is low\n",
        "  tip_memberships['low'] = max(service_memberships['poor'], food_memberships['rancid'])\n",
        "\n",
        "  # Rule 2 : If service is good then tip is average\n",
        "  tip_memberships['average'] = service_memberships['good']\n",
        "\n",
        "  # Rule 3 : If service is excellent or food is delicious then tip is high\n",
        "  tip_memberships['high'] = max(service_memberships['excellent'], food_memberships['delicious'])\n",
        "\n",
        "  return tip_memberships"
      ],
      "metadata": {
        "id": "lzoFYsDSiSXk"
      },
      "execution_count": 19,
      "outputs": []
    },
    {
      "cell_type": "markdown",
      "source": [
        "# 3) ***Defuzzification***"
      ],
      "metadata": {
        "id": "y5_fzJDMy1uY"
      }
    },
    {
      "cell_type": "markdown",
      "source": [
        "Now that we have our fuzzy variables indicating how much tip we should leave (what degree of low, avarage and high should the tip be),\n",
        "<br>we have to get them back into a crisp tip value."
      ],
      "metadata": {
        "id": "jZqDlK1XzEwr"
      }
    },
    {
      "cell_type": "markdown",
      "source": [
        "So we have to consider a new membership function for tip:"
      ],
      "metadata": {
        "id": "WVP9HFMS0Hk3"
      }
    },
    {
      "cell_type": "code",
      "source": [
        "class TipPercentage:\n",
        "  class Triangle:\n",
        "    def __init__(self, x1, x2, x3):\n",
        "      self.p1 = Point(x1 * 1., 0.)\n",
        "      self.p2 = Point(x2 * 1., 1.)\n",
        "      self.p3 = Point(x3 * 1., 0.)\n",
        "\n",
        "      self.l1 = Line(self.p1, self.p2)\n",
        "      self.l2 = Line(self.p2, self.p3)\n",
        "\n",
        "    def compute_membership(self, x):\n",
        "      if not self.p1.x <= x <= self.p3.x:\n",
        "        return 0.\n",
        "      if self.p1.x <= x <= self.p2.x:\n",
        "        return self.l1.calculate_y(x)\n",
        "      if self.p2.x <= x <= self.p3.x:\n",
        "        return self.l2.calculate_y(x)\n",
        "\n",
        "    def compute_boundaries(self, y):\n",
        "      x_min = self.l1.calculate_x(y)\n",
        "      x_max = self.l2.calculate_x(y)\n",
        "      return x_min, x_max\n",
        "\n",
        "  def __init__(self):\n",
        "    self.low_triangle = self.Triangle(0., 5., 15.)\n",
        "    self.average_triangle = self.Triangle(5., 15., 25.)\n",
        "    self.high_triangle = self.Triangle(15., 25., 30.)\n",
        "\n",
        "  def res_func(self, memberships, x):\n",
        "    low_cut = memberships['low']\n",
        "    low_belonging = self.low_triangle.compute_membership(x)\n",
        "    low_degree = min(low_cut, low_belonging)\n",
        "\n",
        "    average_cut = memberships['average']\n",
        "    average_belonging = self.average_triangle.compute_membership(x)\n",
        "    average_degree = min(average_cut, average_belonging)\n",
        "\n",
        "    high_cut = memberships['high']\n",
        "    high_belonging = self.high_triangle.compute_membership(x)\n",
        "    high_degree = min(high_cut, high_belonging)\n",
        "\n",
        "    return max(low_degree, average_degree, high_degree)\n",
        "\n",
        "  def defuzzify(self, memberships):\n",
        "    def numerator(x):\n",
        "      return x * self.res_func(memberships, x)\n",
        "\n",
        "    def denominator(x):\n",
        "      return self.res_func(memberships, x)\n",
        "\n",
        "    warnings.filterwarnings('ignore')\n",
        "    s1 = integrate.quad(lambda x: numerator(x), 0., 30.)[0]\n",
        "    s2 = integrate.quad(lambda x: denominator(x), 0., 30.)[0]\n",
        "    \n",
        "    try:\n",
        "      z = s1 / s2\n",
        "    except ZeroDivisionError:\n",
        "      z = 0\n",
        "\n",
        "    return z"
      ],
      "metadata": {
        "id": "QPPKbCO-6qEL"
      },
      "execution_count": 20,
      "outputs": []
    },
    {
      "cell_type": "code",
      "source": [
        "def plot_tip_percentage(m=None):\n",
        "  tp = np.linspace(0, 30, num=1000)\n",
        "  tip_percentage = TipPercentage()\n",
        "\n",
        "  membership = [tip_percentage.low_triangle.compute_membership(t) for t in tp]\n",
        "  plt.plot(tp, membership, color='red')\n",
        "\n",
        "  membership = [tip_percentage.average_triangle.compute_membership(t) for t in tp]\n",
        "  plt.plot(tp, membership, color='blue')\n",
        "\n",
        "  membership = [tip_percentage.high_triangle.compute_membership(t) for t in tp]\n",
        "  plt.plot(tp, membership, color='green')\n",
        "\n",
        "  plt.xlabel(\"Tip Percentage\")\n",
        "  plt.ylabel(\"Degree Membership\")\n",
        "  plt.legend([\"low\", \"average\", \"high\"])\n",
        "  plt.xticks(np.arange(0, 31, step=5))\n",
        "  plt.yticks(np.arange(0, 1.1, step=0.1))\n",
        "\n",
        "  if m is not None:\n",
        "    low_degree = m['low']\n",
        "    average_degree = m['average']\n",
        "    high_degree = m['high']\n",
        "\n",
        "    low_xmin, low_xmax = tip_percentage.low_triangle.compute_boundaries(low_degree)\n",
        "    average_xmin, average_xmax = tip_percentage.average_triangle.compute_boundaries(average_degree)\n",
        "    high_xmin, high_xmax = tip_percentage.high_triangle.compute_boundaries(high_degree)\n",
        "\n",
        "    plt.plot((low_xmin, low_xmax), (low_degree, low_degree), 'r--')\n",
        "    plt.plot((average_xmin, average_xmax), (average_degree, average_degree), 'b--')\n",
        "    plt.plot((high_xmin, high_xmax), (high_degree, high_degree), 'g--')\n",
        "\n",
        "  plt.show()"
      ],
      "metadata": {
        "id": "BvmZkQ45E6MH"
      },
      "execution_count": 21,
      "outputs": []
    },
    {
      "cell_type": "markdown",
      "source": [
        "Here is the membership functions for tip percentage. According to the degree of the tip, we have 3 fuzzy sets: ${low, average, high}$"
      ],
      "metadata": {
        "id": "vCg4xf0vFLZ2"
      }
    },
    {
      "cell_type": "code",
      "source": [
        "plot_tip_percentage()"
      ],
      "metadata": {
        "colab": {
          "base_uri": "https://localhost:8080/",
          "height": 279
        },
        "id": "RMc7L_dfFCQW",
        "outputId": "67dd93be-2e38-49a0-afb2-0c8547944f73"
      },
      "execution_count": 22,
      "outputs": [
        {
          "output_type": "display_data",
          "data": {
            "image/png": "[encoded data removed]",
            "text/plain": [
              "<Figure size 432x288 with 1 Axes>"
            ]
          },
          "metadata": {
            "needs_background": "light"
          }
        }
      ]
    },
    {
      "cell_type": "markdown",
      "source": [
        "We should fill into the membership functions respect to the degree membership we calculated in inference phase.\n",
        "<br> For example, consider the degree membership of each membership function as below:\n",
        "> low = 0.2\n",
        "> <br> average = 0.7\n",
        "> <br> high = 0.4"
      ],
      "metadata": {
        "id": "FWh_1Sk9GHs6"
      }
    },
    {
      "cell_type": "code",
      "source": [
        "plot_tip_percentage({'low': 0.2, 'average': 0.7, 'high': 0.4})"
      ],
      "metadata": {
        "colab": {
          "base_uri": "https://localhost:8080/",
          "height": 279
        },
        "id": "aN38HqlLHZ55",
        "outputId": "6a583ddb-9bf5-4994-8852-958c6e7ff141"
      },
      "execution_count": 23,
      "outputs": [
        {
          "output_type": "display_data",
          "data": {
            "image/png": "[encoded data removed]",
            "text/plain": [
              "<Figure size 432x288 with 1 Axes>"
            ]
          },
          "metadata": {
            "needs_background": "light"
          }
        }
      ]
    },
    {
      "cell_type": "markdown",
      "source": [
        "# ***Putting it all together***"
      ],
      "metadata": {
        "id": "DCwF1iQ_q4JC"
      }
    },
    {
      "cell_type": "markdown",
      "source": [
        "Now that we have completed all 3 phases of our fuzzy infrence system, we use them to counclude the final tip percentage:"
      ],
      "metadata": {
        "id": "TTv4X4UrrPtt"
      }
    },
    {
      "cell_type": "code",
      "source": [
        "def make_output(fq , sq):\n",
        "  # Fuzzify crisp input values\n",
        "  f_memberships = plot_food_quality(fq)\n",
        "  print()\n",
        "  s_memberships = plot_service_quality(sq)\n",
        "  print()\n",
        "\n",
        "  # Inference from rules\n",
        "  t_memberships = infer(f_memberships, s_memberships)\n",
        "\n",
        "  # Defuzzification using centriod method\n",
        "  plot_tip_percentage(t_memberships)\n",
        "  print()\n",
        "  z = TipPercentage().defuzzify(t_memberships)\n",
        "  return z"
      ],
      "metadata": {
        "id": "HT2ckzT7MJ0m"
      },
      "execution_count": 24,
      "outputs": []
    },
    {
      "cell_type": "markdown",
      "source": [
        "**By selecting a crisp value for food and service quality using the slider, the system inferes how much you should tip.**"
      ],
      "metadata": {
        "id": "U_29F1pbrpxj"
      }
    },
    {
      "cell_type": "code",
      "source": [
        "@interact(food=(0.0,10.0,0.01), service=(0.0,10.0,0.01))\n",
        "def make_input(food=5., service=5.):\n",
        "  duffizified_value = make_output(food, service)\n",
        "  print(\"Respect to chosen inputs, the defuzzified crisp value for the tip percentage is : %.2f%%\" %duffizified_value)"
      ],
      "metadata": {
        "colab": {
          "base_uri": "https://localhost:8080/",
          "height": 941,
          "referenced_widgets": [
            "8432ed36ad5d43a6838f24655fcc5963",
            "8a5ae878e6e248c09c5abf96c20333dd",
            "79615ee35a0546529e6d0bb87d71427b",
            "c76c46c5e81a40c58d90608423427e80",
            "76dda6caa71349098233f4d0d0c29945",
            "3bd8bf2ce27b4b2e9a6e3bc482889c99",
            "7d4358fb42314bbb8aec822820366703",
            "636c8287ff0e43ff940ef8cf53c362c7",
            "d180da4ae2134686bc2dc103f87fd17b",
            "59e02698f85e44bf89a8a4f022f3d70d"
          ]
        },
        "id": "9WgC0OYOS7h0",
        "outputId": "4f2313bb-741f-44c9-ff55-e235418e7566"
      },
      "execution_count": 25,
      "outputs": [
        {
          "output_type": "display_data",
          "data": {
            "application/vnd.jupyter.widget-view+json": {
              "model_id": "8432ed36ad5d43a6838f24655fcc5963",
              "version_minor": 0,
              "version_major": 2
            },
            "text/plain": [
              "interactive(children=(FloatSlider(value=5.0, description='food', max=10.0, step=0.01), FloatSlider(value=5.0, …"
            ]
          },
          "metadata": {}
        }
      ]
    }
  ]
}